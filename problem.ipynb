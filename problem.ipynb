{
 "cells": [
  {
   "cell_type": "code",
   "execution_count": null,
   "id": "5c0f28fc",
   "metadata": {},
   "outputs": [],
   "source": [
    "import numpy as np\n",
    "import random\n",
    "import GS_BCDNS\n",
    "\n",
    "# Test problem 1\n",
    "p = 1000\n",
    "list1 = np.array([random.randint(1, 1000) for _ in range(p)])\n",
    "list2 = np.array([random.randint(1, 1000) for _ in range(p)])\n",
    "\n",
    "# Generate a p x p NumPy matrix\n",
    "matrix = np.array([[random.randint(1, 100) for _ in range(p)] for _ in range(p)])\n",
    "\n",
    "# Compute the total sum of both lists\n",
    "sum1 = sum(list1)\n",
    "sum2 = sum(list2)\n",
    "\n",
    "# Adjust elements in one of the lists to ensure both lists have the same total sum\n",
    "while sum1 != sum2:\n",
    "    if sum1 > sum2:\n",
    "        # If the total sum of list1 is greater than list2, randomly select an element from list1 and decrease its value\n",
    "        index = random.randint(0, p-1)\n",
    "        reduction = random.randint(1, min(list1[index], sum1 - sum2))\n",
    "        list1[index] -= reduction\n",
    "        sum1 -= reduction\n",
    "    else:\n",
    "        # If the total sum of list2 is greater than list1, randomly select an element from list2 and decrease its value\n",
    "        index = random.randint(0, p-1)\n",
    "        reduction = random.randint(1, min(list2[index], sum2 - sum1))\n",
    "        list2[index] -= reduction\n",
    "        sum2 -= reduction\n",
    "\n",
    "\n",
    "optimal_X , total_cost , count , pivot  = coordinate_descent_ns(M ,r , s, 0.005, 0.01)"
   ]
  },
  {
   "cell_type": "code",
   "execution_count": null,
   "id": "b6023ac9",
   "metadata": {},
   "outputs": [],
   "source": [
    "# Test problem 2\n",
    "data = np.load(\"random_samples.npz\")\n",
    "\n",
    "uniform_samples = data['uniform']\n",
    "normal_samples = data['normal']\n",
    "r= np.ones(n)/n\n",
    "s= np.ones(n)/n\n",
    "M = np.square(uniform_samples - normal_samples.T)\n",
    "\n",
    "optimal_X , total_cost , count , pivot  = coordinate_descent_ns(M ,r , s, 0.005, 0.01)\n",
    "P,time_list,cost_list= stable_sinkhorn(a, b, M, 0.01,100000)"
   ]
  },
  {
   "cell_type": "code",
   "execution_count": null,
   "id": "c12ab81a",
   "metadata": {},
   "outputs": [],
   "source": [
    "# Test problem 3\n",
    "data = np.load(\"random_samples_2d.npz\")\n",
    "\n",
    "uniform_samples = data['uniform']\n",
    "normal_samples = data['normal']\n",
    "r= np.ones(n)/n\n",
    "s= np.ones(n)/n\n",
    "M = np.sum((uniform_samples[:, np.newaxis, :] - normal_samples[np.newaxis, :, :]) ** 2, axis=2)\n",
    "\n",
    "optimal_X , total_cost , count , pivot  = coordinate_descent_ns(M ,r , s, 0.005, 0.01)\n",
    "P,time_list,cost_list= stable_sinkhorn(a, b, M, 0.01,100000)"
   ]
  },
  {
   "cell_type": "code",
   "execution_count": null,
   "id": "63e7d7cb",
   "metadata": {},
   "outputs": [],
   "source": [
    "# Test problem 4\n",
    "n_values = range(50, 301, 50)\n",
    "\n",
    "for n in n_values:\n",
    "    \n",
    "    uniform_samples = np.random.uniform(-1, 1, n).reshape(-1, 1)\n",
    "    normal_samples = np.random.normal(0, 1, n).reshape(-1, 1)\n",
    "    \n",
    "    M = np.square(uniform_samples - normal_samples.T)\n",
    "    a = np.ones(n) / n\n",
    "    b = np.ones(n) / n"
   ]
  }
 ],
 "metadata": {
  "kernelspec": {
   "display_name": "tensorflow",
   "language": "python",
   "name": "tensorflow"
  },
  "language_info": {
   "codemirror_mode": {
    "name": "ipython",
    "version": 3
   },
   "file_extension": ".py",
   "mimetype": "text/x-python",
   "name": "python",
   "nbconvert_exporter": "python",
   "pygments_lexer": "ipython3",
   "version": "3.9.13"
  }
 },
 "nbformat": 4,
 "nbformat_minor": 5
}
